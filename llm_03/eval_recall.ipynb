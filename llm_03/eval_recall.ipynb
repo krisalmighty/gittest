{
 "cells": [
  {
   "cell_type": "code",
   "execution_count": 3,
   "id": "9a5d8282-fcd9-48b1-9654-8ae468a40dc3",
   "metadata": {
    "tags": []
   },
   "outputs": [
    {
     "name": "stdout",
     "output_type": "stream",
     "text": [
      "tokenizers.__version__: 0.13.3\n",
      "transformers.__version__: 4.32.1\n"
     ]
    },
    {
     "ename": "FileNotFoundError",
     "evalue": "[Errno 2] No such file or directory: './external_train_data/stem_dataset_gpt4.csv'",
     "output_type": "error",
     "traceback": [
      "\u001b[0;31m---------------------------------------------------------------------------\u001b[0m",
      "\u001b[0;31mFileNotFoundError\u001b[0m                         Traceback (most recent call last)",
      "Cell \u001b[0;32mIn[3], line 50\u001b[0m\n\u001b[1;32m     46\u001b[0m final_name \u001b[39m=\u001b[39m \u001b[39m'\u001b[39m\u001b[39m./external_train_data/stem_dataset_gpt4.csv\u001b[39m\u001b[39m'\u001b[39m\n\u001b[1;32m     47\u001b[0m \u001b[39m# df = pd.read_csv('retrive_dataset.csv')\u001b[39;00m\n\u001b[1;32m     48\u001b[0m \u001b[39m# dev_ids = np.load('dev_id.npy',allow_pickle=True)\u001b[39;00m\n\u001b[1;32m     49\u001b[0m \u001b[39m# dev_df =  df[df['url'].isin(dev_ids)]\u001b[39;00m\n\u001b[0;32m---> 50\u001b[0m dev_df \u001b[39m=\u001b[39m pd\u001b[39m.\u001b[39;49mread_csv(final_name)\n\u001b[1;32m     51\u001b[0m dev_df\u001b[39m.\u001b[39mreset_index(drop\u001b[39m=\u001b[39m\u001b[39mTrue\u001b[39;00m, inplace\u001b[39m=\u001b[39m\u001b[39mTrue\u001b[39;00m)\n\u001b[1;32m     52\u001b[0m final_res \u001b[39m=\u001b[39m deepcopy(dev_df)\n",
      "File \u001b[0;32m~/anaconda3/envs/nlp/lib/python3.9/site-packages/pandas/io/parsers/readers.py:948\u001b[0m, in \u001b[0;36mread_csv\u001b[0;34m(filepath_or_buffer, sep, delimiter, header, names, index_col, usecols, dtype, engine, converters, true_values, false_values, skipinitialspace, skiprows, skipfooter, nrows, na_values, keep_default_na, na_filter, verbose, skip_blank_lines, parse_dates, infer_datetime_format, keep_date_col, date_parser, date_format, dayfirst, cache_dates, iterator, chunksize, compression, thousands, decimal, lineterminator, quotechar, quoting, doublequote, escapechar, comment, encoding, encoding_errors, dialect, on_bad_lines, delim_whitespace, low_memory, memory_map, float_precision, storage_options, dtype_backend)\u001b[0m\n\u001b[1;32m    935\u001b[0m kwds_defaults \u001b[39m=\u001b[39m _refine_defaults_read(\n\u001b[1;32m    936\u001b[0m     dialect,\n\u001b[1;32m    937\u001b[0m     delimiter,\n\u001b[0;32m   (...)\u001b[0m\n\u001b[1;32m    944\u001b[0m     dtype_backend\u001b[39m=\u001b[39mdtype_backend,\n\u001b[1;32m    945\u001b[0m )\n\u001b[1;32m    946\u001b[0m kwds\u001b[39m.\u001b[39mupdate(kwds_defaults)\n\u001b[0;32m--> 948\u001b[0m \u001b[39mreturn\u001b[39;00m _read(filepath_or_buffer, kwds)\n",
      "File \u001b[0;32m~/anaconda3/envs/nlp/lib/python3.9/site-packages/pandas/io/parsers/readers.py:611\u001b[0m, in \u001b[0;36m_read\u001b[0;34m(filepath_or_buffer, kwds)\u001b[0m\n\u001b[1;32m    608\u001b[0m _validate_names(kwds\u001b[39m.\u001b[39mget(\u001b[39m\"\u001b[39m\u001b[39mnames\u001b[39m\u001b[39m\"\u001b[39m, \u001b[39mNone\u001b[39;00m))\n\u001b[1;32m    610\u001b[0m \u001b[39m# Create the parser.\u001b[39;00m\n\u001b[0;32m--> 611\u001b[0m parser \u001b[39m=\u001b[39m TextFileReader(filepath_or_buffer, \u001b[39m*\u001b[39;49m\u001b[39m*\u001b[39;49mkwds)\n\u001b[1;32m    613\u001b[0m \u001b[39mif\u001b[39;00m chunksize \u001b[39mor\u001b[39;00m iterator:\n\u001b[1;32m    614\u001b[0m     \u001b[39mreturn\u001b[39;00m parser\n",
      "File \u001b[0;32m~/anaconda3/envs/nlp/lib/python3.9/site-packages/pandas/io/parsers/readers.py:1448\u001b[0m, in \u001b[0;36mTextFileReader.__init__\u001b[0;34m(self, f, engine, **kwds)\u001b[0m\n\u001b[1;32m   1445\u001b[0m     \u001b[39mself\u001b[39m\u001b[39m.\u001b[39moptions[\u001b[39m\"\u001b[39m\u001b[39mhas_index_names\u001b[39m\u001b[39m\"\u001b[39m] \u001b[39m=\u001b[39m kwds[\u001b[39m\"\u001b[39m\u001b[39mhas_index_names\u001b[39m\u001b[39m\"\u001b[39m]\n\u001b[1;32m   1447\u001b[0m \u001b[39mself\u001b[39m\u001b[39m.\u001b[39mhandles: IOHandles \u001b[39m|\u001b[39m \u001b[39mNone\u001b[39;00m \u001b[39m=\u001b[39m \u001b[39mNone\u001b[39;00m\n\u001b[0;32m-> 1448\u001b[0m \u001b[39mself\u001b[39m\u001b[39m.\u001b[39m_engine \u001b[39m=\u001b[39m \u001b[39mself\u001b[39;49m\u001b[39m.\u001b[39;49m_make_engine(f, \u001b[39mself\u001b[39;49m\u001b[39m.\u001b[39;49mengine)\n",
      "File \u001b[0;32m~/anaconda3/envs/nlp/lib/python3.9/site-packages/pandas/io/parsers/readers.py:1705\u001b[0m, in \u001b[0;36mTextFileReader._make_engine\u001b[0;34m(self, f, engine)\u001b[0m\n\u001b[1;32m   1703\u001b[0m     \u001b[39mif\u001b[39;00m \u001b[39m\"\u001b[39m\u001b[39mb\u001b[39m\u001b[39m\"\u001b[39m \u001b[39mnot\u001b[39;00m \u001b[39min\u001b[39;00m mode:\n\u001b[1;32m   1704\u001b[0m         mode \u001b[39m+\u001b[39m\u001b[39m=\u001b[39m \u001b[39m\"\u001b[39m\u001b[39mb\u001b[39m\u001b[39m\"\u001b[39m\n\u001b[0;32m-> 1705\u001b[0m \u001b[39mself\u001b[39m\u001b[39m.\u001b[39mhandles \u001b[39m=\u001b[39m get_handle(\n\u001b[1;32m   1706\u001b[0m     f,\n\u001b[1;32m   1707\u001b[0m     mode,\n\u001b[1;32m   1708\u001b[0m     encoding\u001b[39m=\u001b[39;49m\u001b[39mself\u001b[39;49m\u001b[39m.\u001b[39;49moptions\u001b[39m.\u001b[39;49mget(\u001b[39m\"\u001b[39;49m\u001b[39mencoding\u001b[39;49m\u001b[39m\"\u001b[39;49m, \u001b[39mNone\u001b[39;49;00m),\n\u001b[1;32m   1709\u001b[0m     compression\u001b[39m=\u001b[39;49m\u001b[39mself\u001b[39;49m\u001b[39m.\u001b[39;49moptions\u001b[39m.\u001b[39;49mget(\u001b[39m\"\u001b[39;49m\u001b[39mcompression\u001b[39;49m\u001b[39m\"\u001b[39;49m, \u001b[39mNone\u001b[39;49;00m),\n\u001b[1;32m   1710\u001b[0m     memory_map\u001b[39m=\u001b[39;49m\u001b[39mself\u001b[39;49m\u001b[39m.\u001b[39;49moptions\u001b[39m.\u001b[39;49mget(\u001b[39m\"\u001b[39;49m\u001b[39mmemory_map\u001b[39;49m\u001b[39m\"\u001b[39;49m, \u001b[39mFalse\u001b[39;49;00m),\n\u001b[1;32m   1711\u001b[0m     is_text\u001b[39m=\u001b[39;49mis_text,\n\u001b[1;32m   1712\u001b[0m     errors\u001b[39m=\u001b[39;49m\u001b[39mself\u001b[39;49m\u001b[39m.\u001b[39;49moptions\u001b[39m.\u001b[39;49mget(\u001b[39m\"\u001b[39;49m\u001b[39mencoding_errors\u001b[39;49m\u001b[39m\"\u001b[39;49m, \u001b[39m\"\u001b[39;49m\u001b[39mstrict\u001b[39;49m\u001b[39m\"\u001b[39;49m),\n\u001b[1;32m   1713\u001b[0m     storage_options\u001b[39m=\u001b[39;49m\u001b[39mself\u001b[39;49m\u001b[39m.\u001b[39;49moptions\u001b[39m.\u001b[39;49mget(\u001b[39m\"\u001b[39;49m\u001b[39mstorage_options\u001b[39;49m\u001b[39m\"\u001b[39;49m, \u001b[39mNone\u001b[39;49;00m),\n\u001b[1;32m   1714\u001b[0m )\n\u001b[1;32m   1715\u001b[0m \u001b[39massert\u001b[39;00m \u001b[39mself\u001b[39m\u001b[39m.\u001b[39mhandles \u001b[39mis\u001b[39;00m \u001b[39mnot\u001b[39;00m \u001b[39mNone\u001b[39;00m\n\u001b[1;32m   1716\u001b[0m f \u001b[39m=\u001b[39m \u001b[39mself\u001b[39m\u001b[39m.\u001b[39mhandles\u001b[39m.\u001b[39mhandle\n",
      "File \u001b[0;32m~/anaconda3/envs/nlp/lib/python3.9/site-packages/pandas/io/common.py:863\u001b[0m, in \u001b[0;36mget_handle\u001b[0;34m(path_or_buf, mode, encoding, compression, memory_map, is_text, errors, storage_options)\u001b[0m\n\u001b[1;32m    858\u001b[0m \u001b[39melif\u001b[39;00m \u001b[39misinstance\u001b[39m(handle, \u001b[39mstr\u001b[39m):\n\u001b[1;32m    859\u001b[0m     \u001b[39m# Check whether the filename is to be opened in binary mode.\u001b[39;00m\n\u001b[1;32m    860\u001b[0m     \u001b[39m# Binary mode does not support 'encoding' and 'newline'.\u001b[39;00m\n\u001b[1;32m    861\u001b[0m     \u001b[39mif\u001b[39;00m ioargs\u001b[39m.\u001b[39mencoding \u001b[39mand\u001b[39;00m \u001b[39m\"\u001b[39m\u001b[39mb\u001b[39m\u001b[39m\"\u001b[39m \u001b[39mnot\u001b[39;00m \u001b[39min\u001b[39;00m ioargs\u001b[39m.\u001b[39mmode:\n\u001b[1;32m    862\u001b[0m         \u001b[39m# Encoding\u001b[39;00m\n\u001b[0;32m--> 863\u001b[0m         handle \u001b[39m=\u001b[39m \u001b[39mopen\u001b[39;49m(\n\u001b[1;32m    864\u001b[0m             handle,\n\u001b[1;32m    865\u001b[0m             ioargs\u001b[39m.\u001b[39;49mmode,\n\u001b[1;32m    866\u001b[0m             encoding\u001b[39m=\u001b[39;49mioargs\u001b[39m.\u001b[39;49mencoding,\n\u001b[1;32m    867\u001b[0m             errors\u001b[39m=\u001b[39;49merrors,\n\u001b[1;32m    868\u001b[0m             newline\u001b[39m=\u001b[39;49m\u001b[39m\"\u001b[39;49m\u001b[39m\"\u001b[39;49m,\n\u001b[1;32m    869\u001b[0m         )\n\u001b[1;32m    870\u001b[0m     \u001b[39melse\u001b[39;00m:\n\u001b[1;32m    871\u001b[0m         \u001b[39m# Binary mode\u001b[39;00m\n\u001b[1;32m    872\u001b[0m         handle \u001b[39m=\u001b[39m \u001b[39mopen\u001b[39m(handle, ioargs\u001b[39m.\u001b[39mmode)\n",
      "\u001b[0;31mFileNotFoundError\u001b[0m: [Errno 2] No such file or directory: './external_train_data/stem_dataset_gpt4.csv'"
     ]
    }
   ],
   "source": [
    "TOP_K = 5\n",
    "N_RECALLS = 10\n",
    "MAX_SEQ_LEN = 512\n",
    "\n",
    "\n",
    "MODEL_NAME = \"output_simcse_model\"\n",
    "\n",
    "import warnings\n",
    "warnings.simplefilter('ignore')\n",
    "\n",
    "import os\n",
    "import re\n",
    "import gc\n",
    "import sys\n",
    "import multiprocessing\n",
    "\n",
    "import numpy as np\n",
    "import pandas as pd\n",
    "pd.set_option('display.max_columns', None)\n",
    "from tqdm.auto import tqdm\n",
    "from copy import deepcopy\n",
    "import torch\n",
    "\n",
    "from sentence_transformers import SentenceTransformer\n",
    "from sentence_transformers import util\n",
    "import tokenizers\n",
    "import transformers\n",
    "print(f\"tokenizers.__version__: {tokenizers.__version__}\")\n",
    "print(f\"transformers.__version__: {transformers.__version__}\")\n",
    "from transformers import AutoTokenizer, AutoModel, AutoConfig\n",
    "import torch.nn as nn\n",
    "from torch.nn import Parameter\n",
    "import torch.nn.functional as F\n",
    "from torch.optim import Adam, SGD, AdamW\n",
    "from torch.optim import lr_scheduler\n",
    "from torch.utils.data import DataLoader, Dataset\n",
    "from transformers import get_cosine_schedule_with_warmup, DataCollatorWithPadding\n",
    "from sklearn.model_selection import train_test_split\n",
    "from datasets import load_dataset\n",
    "from pathlib import Path\n",
    "# 加载数据\n",
    "\n",
    "DATA_DIR = './learning-equality-curriculum-recommendations'\n",
    "\n",
    "# 验证集 topic_id\n",
    "final_name = './external_train_data/stem_dataset_gpt4.csv'\n",
    "# df = pd.read_csv('retrive_dataset.csv')\n",
    "# dev_ids = np.load('dev_id.npy',allow_pickle=True)\n",
    "# dev_df =  df[df['url'].isin(dev_ids)]\n",
    "dev_df = pd.read_csv(final_name)\n",
    "dev_df.reset_index(drop=True, inplace=True)\n",
    "final_res = deepcopy(dev_df)\n",
    "files = list(map(str, Path(\"./wiki_sci\").glob(\"*.parquet\")))\n",
    "ds = load_dataset(\"parquet\", data_files=files, split=\"train\")\n",
    "content_df = pd.DataFrame(ds)\n",
    "# 加载预训练模型\n",
    "\n",
    "# ====================================================\n",
    "# Model\n",
    "# ====================================================\n",
    "class MeanPooling(nn.Module):\n",
    "    def __init__(self):\n",
    "        super(MeanPooling, self).__init__()\n",
    "\n",
    "    def forward(self, last_hidden_state, attention_mask):\n",
    "        input_mask_expanded = attention_mask.unsqueeze(-1).expand(last_hidden_state.size()).float()\n",
    "        sum_embeddings = torch.sum(last_hidden_state * input_mask_expanded, 1)\n",
    "        sum_mask = input_mask_expanded.sum(1)\n",
    "        sum_mask = torch.clamp(sum_mask, min=1e-9)\n",
    "        mean_embeddings = sum_embeddings / sum_mask\n",
    "        return mean_embeddings\n",
    "\n",
    "class WeightedLayerPooling(nn.Module):\n",
    "    def __init__(self, num_hidden_layers, layer_start: int = 4, layer_weights=None):\n",
    "        super(WeightedLayerPooling, self).__init__()\n",
    "        self.layer_start = layer_start\n",
    "        self.num_hidden_layers = num_hidden_layers\n",
    "        self.layer_weights = layer_weights if layer_weights is not None \\\n",
    "            else nn.Parameter(\n",
    "            torch.tensor([1] * (num_hidden_layers + 1 - layer_start), dtype=torch.float)\n",
    "        )\n",
    "\n",
    "    def forward(self, all_hidden_states):\n",
    "        all_layer_embedding = all_hidden_states[self.layer_start:, :, :, :]\n",
    "        weight_factor = self.layer_weights.unsqueeze(-1).unsqueeze(-1).unsqueeze(-1).expand(all_layer_embedding.size())\n",
    "        weighted_average = (weight_factor * all_layer_embedding).sum(dim=0) / self.layer_weights.sum()\n",
    "        return weighted_average\n",
    "\n",
    "class CustomModel(nn.Module):\n",
    "    def __init__(self, cfg, config_path=None, pretrained=False):\n",
    "        super().__init__()\n",
    "        self.cfg = cfg\n",
    "        if config_path is None:\n",
    "            self.config = AutoConfig.from_pretrained(cfg.model, output_hidden_states=True)\n",
    "            # self.config.hidden_dropout = 0.\n",
    "            # self.config.hidden_dropout_prob = 0.\n",
    "            # self.config.attention_dropout = 0.\n",
    "            # self.config.attention_probs_dropout_prob = 0.\n",
    "        else:\n",
    "            self.config = torch.load(config_path)\n",
    "\n",
    "        if pretrained:\n",
    "            self.model = AutoModel.from_pretrained(cfg.model, config=self.config)\n",
    "        else:\n",
    "            self.model = AutoModel.from_config(self.config)\n",
    "        # if self.cfg.gradient_checkpointing:\n",
    "        #     self.model.gradient_checkpointing_enable\n",
    "\n",
    "        self.pool = MeanPooling()\n",
    "        self.fc_dropout = nn.Dropout(0.1)\n",
    "        self.fc = nn.Linear(self.config.hidden_size, 1)\n",
    "        self._init_weights(self.fc)\n",
    "\n",
    "    def _init_weights(self, module):\n",
    "        if isinstance(module, nn.Linear):\n",
    "            module.weight.data.normal_(mean=0.0, std=self.config.initializer_range)\n",
    "            if module.bias is not None:\n",
    "                module.bias.data.zero_()\n",
    "        elif isinstance(module, nn.Embedding):\n",
    "            module.weight.data.normal_(mean=0.0, std=self.config.initializer_range)\n",
    "            if module.padding_idx is not None:\n",
    "                module.weight.data[module.padding_idx].zero_()\n",
    "        elif isinstance(module, nn.LayerNorm):\n",
    "            module.bias.data.zero_()\n",
    "            module.weight.data.fill_(1.0)\n",
    "\n",
    "    def forward(self, inputs):\n",
    "        outputs = self.model(**inputs)\n",
    "        last_hidden_states = outputs[0]\n",
    "        feature = self.pool(last_hidden_states, inputs['attention_mask'])\n",
    "        #feature = F.normalize(feature, p=2, dim=1)\n",
    "        return feature\n",
    "\n",
    "#tokenizer = AutoTokenizer.from_pretrained(MODEL_NAME)\n",
    "model = 'sentence-transformers/all-mpnet-base-v1'\n",
    "tokenizer = AutoTokenizer.from_pretrained(model)\n",
    "\n",
    "model = CustomModel(cfg=None, config_path=MODEL_NAME + '/config.pth', pretrained=False)\n",
    "state = torch.load(MODEL_NAME + '/sentence-transformers-all-mpnet-base-v1_fold0_best.pth',\n",
    "                   map_location=torch.device('cpu'))\n",
    "model.load_state_dict(state['model'])\n",
    "\n",
    "device = torch.device('cuda:1') if torch.cuda.device_count() > 1 else torch.device('cuda:0')\n",
    "model.eval()\n",
    "model.to(device)\n",
    "\n",
    "\n",
    "class TestDataset(Dataset):\n",
    "    def __init__(self, texts):\n",
    "        self.texts = texts\n",
    "\n",
    "    def __len__(self):\n",
    "        return len(self.texts)\n",
    "\n",
    "    def __getitem__(self, item):\n",
    "        text = self.texts[item]\n",
    "        # text = self.texts[item].replace('[SEP]', '</s>')\n",
    "        inputs = tokenizer(text,\n",
    "                           max_length=512,\n",
    "                           pad_to_max_length=True,\n",
    "                           add_special_tokens=True,\n",
    "                           return_offsets_mapping=False)\n",
    "\n",
    "        for k, v in inputs.items():\n",
    "            inputs[k] = torch.tensor(v, dtype=torch.long)\n",
    "        return inputs\n",
    "\n",
    "def get_model_feature(model, texts):\n",
    "    feature_outs_all = []\n",
    "    test_dataset = TestDataset(texts)\n",
    "    test_loader = DataLoader(test_dataset,\n",
    "                             batch_size=256,\n",
    "                             shuffle=False,\n",
    "                             collate_fn=DataCollatorWithPadding(tokenizer=tokenizer, padding='longest'),\n",
    "                             num_workers=0, pin_memory=True, drop_last=False)\n",
    "\n",
    "    # tk0 = tqdm(test_loader, total=len(test_loader))\n",
    "    for inputs in tqdm(test_loader):\n",
    "        for k, v in inputs.items():\n",
    "            inputs[k] = v.to(device)\n",
    "        with torch.no_grad():\n",
    "            feature_outs = model(inputs)\n",
    "            feature_outs_all.append(feature_outs.cpu())\n",
    "\n",
    "    feature_outs_all_final = torch.cat(feature_outs_all, dim=0)\n",
    "    #print(feature_outs_all_final.shape)\n",
    "\n",
    "    return feature_outs_all_final\n",
    "\n",
    "\n",
    "\n",
    "\n",
    "topic_embedding_list = get_model_feature(model, dev_df['prompt'].values)\n",
    "print('question embedding done')\n",
    "print(topic_embedding_list.shape)\n",
    "corpus_embeddings = torch.as_tensor(np.load('text_embedding.npy')) #get_model_feature(model, content_df['text'].values)\n",
    "print('content embedding done')\n",
    "print(corpus_embeddings.shape)\n"
   ]
  },
  {
   "cell_type": "code",
   "execution_count": null,
   "id": "54369dd7-30d9-4d49-bf56-7148958a42a9",
   "metadata": {
    "tags": []
   },
   "outputs": [],
   "source": [
    "#corpus_embeddings = torch.as_tensor(np.load('text_embedding.npy')).to('cuda')"
   ]
  },
  {
   "cell_type": "code",
   "execution_count": null,
   "id": "fa92c48f-e2d2-4c1f-948d-66c943bf02f2",
   "metadata": {
    "tags": []
   },
   "outputs": [],
   "source": [
    "#np.save('text_embedding', corpus_embeddings.cpu().numpy())"
   ]
  },
  {
   "cell_type": "code",
   "execution_count": null,
   "id": "71518878-df38-4668-83e8-9d467b3d198c",
   "metadata": {
    "tags": []
   },
   "outputs": [],
   "source": [
    "#content_df.to_csv('wiki_sci_text.csv', index=None)"
   ]
  },
  {
   "cell_type": "code",
   "execution_count": null,
   "id": "e9f3b45a-0a86-4af2-a85b-ef53ac9e7d78",
   "metadata": {
    "scrolled": true,
    "tags": []
   },
   "outputs": [
    {
     "name": "stderr",
     "output_type": "stream",
     "text": [
      "100%|██████████| 35895/35895 [18:26<00:00, 32.45it/s]\n"
     ]
    }
   ],
   "source": [
    "N_RECALLS= 10\n",
    "pred_final = []\n",
    "pred_text = []\n",
    "for idx, row in tqdm(dev_df.iterrows(), total=len(dev_df)):\n",
    "\n",
    "    query_embedding = topic_embedding_list[idx, :]\n",
    "\n",
    "    cos_scores = util.cos_sim(query_embedding.cuda(), corpus_embeddings.cuda())[0]\n",
    "    top_k = min([N_RECALLS, len(corpus_embeddings)])\n",
    "    top_results = torch.topk(cos_scores, k=top_k)\n",
    "    #print(top_results)\n",
    "    indics = top_results[1].cpu().numpy()\n",
    "\n",
    "    # threshold = 0.8\n",
    "    # score_top = top_results[0].cpu().numpy()\n",
    "    # in_use = np.where(score_top > threshold)\n",
    "    # indics = indics[in_use]\n",
    "\n",
    "    #pid = content_dict[lang]['id'][indics]\n",
    "    pid = content_df['url'][indics]\n",
    "    pred_final.append(' '.join(pid))\n",
    "    \n",
    "    pid = content_df['text'][indics]\n",
    "    pred_text.append('<recall_wiki_text>'.join(pid))\n",
    "\n",
    "dev_df['recall_ids'] = pred_final\n",
    "dev_df['recall_text'] = pred_text\n"
   ]
  },
  {
   "cell_type": "code",
   "execution_count": null,
   "id": "0263b4fc-913a-403a-83aa-3538ca6bb47f",
   "metadata": {
    "tags": []
   },
   "outputs": [],
   "source": [
    "prompt_values = dev_df['prompt'].values.tolist()"
   ]
  },
  {
   "cell_type": "code",
   "execution_count": null,
   "id": "62741e96-fb26-49d9-b2dd-17b3f93734bb",
   "metadata": {
    "tags": []
   },
   "outputs": [
    {
     "data": {
      "text/plain": [
       "35895"
      ]
     },
     "execution_count": 5,
     "metadata": {},
     "output_type": "execute_result"
    }
   ],
   "source": [
    "len(dev_df)"
   ]
  },
  {
   "cell_type": "code",
   "execution_count": null,
   "id": "a94c14be-fabb-465f-a21a-040ab08fcea0",
   "metadata": {
    "tags": []
   },
   "outputs": [],
   "source": [
    "# 算分环节\n",
    "dev_df['recall_ids'] = pred_final\n",
    "df_metric = dev_df.copy()\n",
    "df_metric['content_ids'] = df_metric['url']"
   ]
  },
  {
   "cell_type": "code",
   "execution_count": null,
   "id": "21936112-a486-427a-8379-50e09807ff82",
   "metadata": {
    "tags": []
   },
   "outputs": [],
   "source": [
    "def get_pos_score(y_true, y_pred, top_n):\n",
    "    y_true = y_true.apply(lambda x: set(x.split()))\n",
    "    y_pred = y_pred.apply(lambda x: set(x.split()[:top_n]))\n",
    "    int_true = np.array([len(x[0] & x[1]) / len(x[0]) for x in zip(y_true, y_pred)])\n",
    "    return round(np.mean(int_true), 5)\n",
    "\n",
    "pos_score = get_pos_score(df_metric['content_ids'], df_metric['recall_ids'], 50)\n",
    "print(f'Our max positive score top 50 is {pos_score}')\n",
    "\n",
    "pos_score = get_pos_score(df_metric['content_ids'], df_metric['recall_ids'], 70)\n",
    "print(f'Our max positive score top 70 is {pos_score}')\n",
    "\n",
    "pos_score = get_pos_score(df_metric['content_ids'], df_metric['recall_ids'], 100)\n",
    "print(f'Our max positive score top 100 is {pos_score}')\n",
    "\n",
    "pos_score = get_pos_score(df_metric['content_ids'], df_metric['recall_ids'], 150)\n",
    "print(f'Our max positive score top 150 is {pos_score}')\n",
    "\n",
    "pos_score = get_pos_score(df_metric['content_ids'], df_metric['recall_ids'], 200)\n",
    "print(f'Our max positive score top 200 is {pos_score}')\n",
    "\n",
    "df_metric['content_ids'] = df_metric['content_ids'].astype(str).apply(lambda x: x.split())\n",
    "df_metric['recall_ids'] = df_metric['recall_ids'].astype(str).apply(lambda x: x.split())\n",
    "f2_scores = []\n",
    "\n",
    "N_RECALLS = [3, 5, 10, 30, 50, 100, 200, 300, 400, 500, 600]\n",
    "N_TOP_F2 = [5, 10, 15]\n",
    "# for n_top in N_TOP_F2:\n",
    "#     for _, row in tqdm(df_metric.iterrows(), total=len(df_metric)):\n",
    "#         true_ids = set(row['content_ids'])\n",
    "#         pred_ids = set(row['recall_ids'][:n_top])\n",
    "#         tp = len(true_ids.intersection(pred_ids))\n",
    "#         fp = len(pred_ids - true_ids)\n",
    "#         fn = len(true_ids - pred_ids)\n",
    "#         if pred_ids:\n",
    "#             precision = tp / (tp + fp)\n",
    "#             recall = tp / (tp + fn)\n",
    "#             f2 = tp / (tp + 0.2 * fp + 0.8 * fn)\n",
    "#         else:\n",
    "#             f2 = 0\n",
    "#         f2_scores.append(f2)\n",
    "#     print(f'Average F2@{n_top}:', np.mean(f2_scores))\n",
    "for n_recall in N_RECALLS:\n",
    "    total = 0\n",
    "    correct = 0\n",
    "    for _, row in tqdm(df_metric.iterrows(), total=len(df_metric)):\n",
    "        y_trues = row['content_ids']\n",
    "        y_preds = row['recall_ids'][:n_recall]\n",
    "        for y_true in y_trues:\n",
    "            total += 1\n",
    "            if y_true in y_preds:\n",
    "                correct += 1\n",
    "    print(f'hitrate@{n_recall}:', correct/total)"
   ]
  },
  {
   "cell_type": "code",
   "execution_count": null,
   "id": "7dfe136a-37c9-4bbb-ba73-612f7d665b55",
   "metadata": {},
   "outputs": [],
   "source": []
  }
 ],
 "metadata": {
  "kernelspec": {
   "display_name": "Python 3 (ipykernel)",
   "language": "python",
   "name": "python3"
  },
  "language_info": {
   "codemirror_mode": {
    "name": "ipython",
    "version": 3
   },
   "file_extension": ".py",
   "mimetype": "text/x-python",
   "name": "python",
   "nbconvert_exporter": "python",
   "pygments_lexer": "ipython3",
   "version": "3.9.17"
  }
 },
 "nbformat": 4,
 "nbformat_minor": 5
}
